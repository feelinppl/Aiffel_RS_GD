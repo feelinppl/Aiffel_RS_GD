{
 "cells": [
  {
   "attachments": {},
   "cell_type": "markdown",
   "metadata": {},
   "source": [
    "- 참고():"
   ]
  },
  {
   "attachments": {},
   "cell_type": "markdown",
   "metadata": {},
   "source": [
    "# 프로젝트: End-to-End OCR\n",
    "\n",
    "라이브러리 버전 확인\n",
    "사용할 주요 라이브러리 버전을 확인해봅니다."
   ]
  },
  {
   "cell_type": "code",
   "execution_count": 1,
   "metadata": {},
   "outputs": [
    {
     "name": "stdout",
     "output_type": "stream",
     "text": [
      "2.11.0\n",
      "1.24.1\n",
      "9.4.0\n",
      "4.7.0\n",
      "0.9.2\n"
     ]
    }
   ],
   "source": [
    "import tensorflow as tf\n",
    "import numpy as np\n",
    "import PIL\n",
    "import cv2\n",
    "import keras_ocr\n",
    "\n",
    "print(tf.__version__)\n",
    "print(np.__version__)\n",
    "print(PIL.__version__)\n",
    "print(cv2.__version__)\n",
    "print(keras_ocr.__version__)"
   ]
  },
  {
   "attachments": {},
   "cell_type": "markdown",
   "metadata": {},
   "source": [
    "![img](https://d3s0tskafalll9.cloudfront.net/media/images/e-23-4.sample.max-800x600.jpg)\n",
    "keras OCR의 Detector class를 이용해서 이미지 내의 문자 위치를 찾아내는 함수를 만들어보도록 하겠습니다. 이를 위해서 keras-ocr을 설치해주고 Detector를 만들어주세요.\n",
    "\n",
    "### 데이터 다운로드(☁️클라우드 유저용)\n",
    "---\n",
    "step3에서 심볼릭 링크를 사용한 경우, sample.jpg는 ~/aiffel/ocr/data디렉토리에 있습니다."
   ]
  },
  {
   "cell_type": "code",
   "execution_count": 2,
   "metadata": {},
   "outputs": [
    {
     "ename": "NameError",
     "evalue": "name 'HOME_DIR' is not defined",
     "output_type": "error",
     "traceback": [
      "\u001b[0;31m---------------------------------------------------------------------------\u001b[0m",
      "\u001b[0;31mNameError\u001b[0m                                 Traceback (most recent call last)",
      "Cell \u001b[0;32mIn[2], line 3\u001b[0m\n\u001b[1;32m      1\u001b[0m \u001b[39mfrom\u001b[39;00m \u001b[39mkeras_ocr\u001b[39;00m\u001b[39m.\u001b[39;00m\u001b[39mdetection\u001b[39;00m \u001b[39mimport\u001b[39;00m Detector\n\u001b[0;32m----> 3\u001b[0m SAMPLE_IMG_PATH \u001b[39m=\u001b[39m HOME_DIR \u001b[39m+\u001b[39m \u001b[39m'\u001b[39m\u001b[39m/data/sample.jpg\u001b[39m\u001b[39m'\u001b[39m\n\u001b[1;32m      5\u001b[0m detector \u001b[39m=\u001b[39m Detector()\n",
      "\u001b[0;31mNameError\u001b[0m: name 'HOME_DIR' is not defined"
     ]
    }
   ],
   "source": [
    "from keras_ocr.detection import Detector\n",
    "\n",
    "SAMPLE_IMG_PATH = HOME_DIR + '/data/sample.jpg'\n",
    "\n",
    "detector = Detector()"
   ]
  },
  {
   "attachments": {},
   "cell_type": "markdown",
   "metadata": {},
   "source": [
    "이미지 경로를 받아 해당 이미지 내의 문자를 찾아내는 함수를 keras-ocr의 Detector를 이용해서 만들어보세요! inference한 후에는 이를 시각화하도록 합니다. 단어의 영역을 잘라오도록 해주세요."
   ]
  },
  {
   "cell_type": "code",
   "execution_count": null,
   "metadata": {},
   "outputs": [],
   "source": [
    "def detect_text(img_path):\n",
    "    # TODO\n",
    "\t\t\n",
    "    # 배치 크기를 위해서 dimension을 확장해주고 kera-ocr의 입력 차원에 맞게 H,W,C로 변경합니다.\n",
    "\t\t\n",
    "    # 배치의 첫 번째 결과만 가져옵니다.\n",
    "\t\t\n",
    "    # 시각화를 위해서 x와 y좌표를 변경해줍니다. (앞선 h dimension으로 인해 y,x로 표기됨)\n",
    "\t\t\n",
    "    cropped_imgs = []\n",
    "    for text_result in ocr_result:\n",
    "        img_draw.polygon(text_result, outline='red')\n",
    "        x_min = text_result[:,0].min() - 5\n",
    "        x_max = text_result[:,0].max() + 5\n",
    "        y_min = text_result[:,1].min() - 5\n",
    "        y_max = text_result[:,1].max() + 5\n",
    "        word_box = [x_min, y_min, x_max, y_max]\n",
    "        cropped_imgs.append(img_pil.crop(word_box))\n",
    "\n",
    "\n",
    "    return result_img, cropped_imgs"
   ]
  },
  {
   "cell_type": "code",
   "execution_count": null,
   "metadata": {},
   "outputs": [],
   "source": [
    "img_pil, cropped_img = detect_text(SAMPLE_IMG_PATH)\n",
    "display(img_pil)"
   ]
  },
  {
   "attachments": {},
   "cell_type": "markdown",
   "metadata": {},
   "source": [
    "이제 위에서 이미지 내의 단어 이미지를 얻었습니다. 그럼 Recognition model로 인식하는 함수를 직접 작성하고 그 결과를 출력해보세요!"
   ]
  },
  {
   "cell_type": "code",
   "execution_count": null,
   "metadata": {},
   "outputs": [],
   "source": [
    "def recognize_img(pil_img, input_img_size=(100,32)):\n",
    "    # TODO: 잘려진 단어 이미지를 인식하는 코드를 작성하세요!"
   ]
  },
  {
   "cell_type": "code",
   "execution_count": null,
   "metadata": {},
   "outputs": [],
   "source": [
    "for _img in cropped_img:\n",
    "    recognize_img(_img)"
   ]
  }
 ],
 "metadata": {
  "kernelspec": {
   "display_name": "img",
   "language": "python",
   "name": "python3"
  },
  "language_info": {
   "codemirror_mode": {
    "name": "ipython",
    "version": 3
   },
   "file_extension": ".py",
   "mimetype": "text/x-python",
   "name": "python",
   "nbconvert_exporter": "python",
   "pygments_lexer": "ipython3",
   "version": "3.9.13"
  },
  "orig_nbformat": 4,
  "vscode": {
   "interpreter": {
    "hash": "7fab3fa8ad0d718782cc235f880c2bcd736b0ee11af42d411a8ee73cf25cee8f"
   }
  }
 },
 "nbformat": 4,
 "nbformat_minor": 2
}
